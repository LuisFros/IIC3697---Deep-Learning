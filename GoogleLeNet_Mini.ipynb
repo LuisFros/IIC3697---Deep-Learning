{
  "nbformat": 4,
  "nbformat_minor": 0,
  "metadata": {
    "colab": {
      "name": "GoogleLeNet_Mini.ipynb",
      "provenance": [],
      "collapsed_sections": [],
      "toc_visible": true
    },
    "kernelspec": {
      "name": "python3",
      "display_name": "Python 3"
    },
    "accelerator": "GPU"
  },
  "cells": [
    {
      "cell_type": "markdown",
      "metadata": {
        "id": "pKst1KYcL814",
        "colab_type": "text"
      },
      "source": [
        "# Parte 1"
      ]
    },
    {
      "cell_type": "code",
      "metadata": {
        "id": "QzZ2eZKwLPFI",
        "colab_type": "code",
        "colab": {
          "base_uri": "https://localhost:8080/",
          "height": 34
        },
        "outputId": "4729f671-4dda-437f-c9bd-f0cb7fcce239"
      },
      "source": [
        "import keras\n",
        "\n",
        "from keras.layers import Input, Conv2D, MaxPooling2D, Dense, Activation, Dropout\n",
        "from keras.layers import Flatten, concatenate, AveragePooling2D\n",
        "from keras.models import Model"
      ],
      "execution_count": null,
      "outputs": [
        {
          "output_type": "stream",
          "text": [
            "Using TensorFlow backend.\n"
          ],
          "name": "stderr"
        }
      ]
    },
    {
      "cell_type": "code",
      "metadata": {
        "id": "l1QjWevaLlVp",
        "colab_type": "code",
        "colab": {}
      },
      "source": [
        "#Definicion de input y secuencia de capas de la red\n",
        "Inputs = Input(shape=(224,224,3))"
      ],
      "execution_count": null,
      "outputs": []
    },
    {
      "cell_type": "code",
      "metadata": {
        "id": "a_Yzk6GdMhNp",
        "colab_type": "code",
        "colab": {
          "base_uri": "https://localhost:8080/",
          "height": 34
        },
        "outputId": "4a9a99a8-90f9-4c8e-aa5e-095d22665ac4"
      },
      "source": [
        "# Definicion de la convulucion, 64 filtros de tamaño 7x7 con strides de 2h y 2v. Padding de cers, activacion relu, sin bias\n",
        "x = Conv2D(64, (7, 7), strides=(2,2), padding='same', activation=\"relu\",\n",
        "use_bias=False,\n",
        "name='Conv2d_1a_7x7_conv')(Inputs)\n",
        "x.shape"
      ],
      "execution_count": null,
      "outputs": [
        {
          "output_type": "execute_result",
          "data": {
            "text/plain": [
              "TensorShape([None, 112, 112, 64])"
            ]
          },
          "metadata": {
            "tags": []
          },
          "execution_count": 3
        }
      ]
    },
    {
      "cell_type": "code",
      "metadata": {
        "id": "EzNt8vnxL_op",
        "colab_type": "code",
        "colab": {}
      },
      "source": [
        ""
      ],
      "execution_count": null,
      "outputs": []
    },
    {
      "cell_type": "code",
      "metadata": {
        "id": "I1uzDUJ-MiSJ",
        "colab_type": "code",
        "colab": {
          "base_uri": "https://localhost:8080/",
          "height": 34
        },
        "outputId": "73cb875f-6e60-45bb-f3ed-e42d8d4114ff"
      },
      "source": [
        "# MaxPool de tamaño de 3x3 y strides de 2h y 2v. Padding de ceros\n",
        "x = MaxPooling2D((3, 3), strides=(2, 2), padding='same', name='MaxPool_2a_3x3')(\n",
        "x)\n",
        "x.shape"
      ],
      "execution_count": null,
      "outputs": [
        {
          "output_type": "execute_result",
          "data": {
            "text/plain": [
              "TensorShape([None, 56, 56, 64])"
            ]
          },
          "metadata": {
            "tags": []
          },
          "execution_count": 4
        }
      ]
    },
    {
      "cell_type": "markdown",
      "metadata": {
        "id": "QBurqn5BX03a",
        "colab_type": "text"
      },
      "source": [
        "## Actividad 2 \n",
        "\n",
        "---\n",
        "\n"
      ]
    },
    {
      "cell_type": "markdown",
      "metadata": {
        "id": "4xPwsSI7ZNfk",
        "colab_type": "text"
      },
      "source": [
        "*  Una convolucion 1x1 es equivalente a una capa densa (fully-connected), \n",
        "\n",
        "cuando se aplica a cada pixel de una imagen.\n",
        "*  Se utiliza tipicamente para ajustar el numero de canales entre las capas y para controlar la complejidad del modelo. Eso es lo que se hizo para GoogleLeNet"
      ]
    },
    {
      "cell_type": "code",
      "metadata": {
        "id": "pMU8rvhBW9Me",
        "colab_type": "code",
        "colab": {
          "base_uri": "https://localhost:8080/",
          "height": 34
        },
        "outputId": "b8fe673e-04aa-4e4f-d4ea-d00e75935f9c"
      },
      "source": [
        "#1 Convoluci´on de 64 filtros, con ventana de 1x1 y un stride de 1. Sin Bias.\n",
        "x=Conv2D(64,(1,1),padding='same',strides=(1,1),use_bias=False)(x)\n",
        "x.shape"
      ],
      "execution_count": null,
      "outputs": [
        {
          "output_type": "execute_result",
          "data": {
            "text/plain": [
              "TensorShape([None, 56, 56, 64])"
            ]
          },
          "metadata": {
            "tags": []
          },
          "execution_count": 5
        }
      ]
    },
    {
      "cell_type": "code",
      "metadata": {
        "id": "TREcgdh6YA0c",
        "colab_type": "code",
        "colab": {
          "base_uri": "https://localhost:8080/",
          "height": 34
        },
        "outputId": "eddc097f-2923-4457-f39c-5f829d9299ba"
      },
      "source": [
        "# 2. Convoluci´on de 192 filtros, con ventana de 3x3, stride de 1. Sin Bias\n",
        "x=Conv2D(192,(3,3),strides=(1,1),padding='same',use_bias=False)(x)\n",
        "x.shape"
      ],
      "execution_count": null,
      "outputs": [
        {
          "output_type": "execute_result",
          "data": {
            "text/plain": [
              "TensorShape([None, 56, 56, 192])"
            ]
          },
          "metadata": {
            "tags": []
          },
          "execution_count": 6
        }
      ]
    },
    {
      "cell_type": "code",
      "metadata": {
        "id": "Y2PWMheNYbTU",
        "colab_type": "code",
        "colab": {
          "base_uri": "https://localhost:8080/",
          "height": 34
        },
        "outputId": "ed6e0c10-e4dc-4964-a7bf-5f9e47db69c5"
      },
      "source": [
        "# 3. MaxPooling de ventana de 3x3 y stride de 2.\n",
        "x=MaxPooling2D((3,3),strides=(2,2),padding='same', name='MaxPool_2b_3x3')(x)\n",
        "x.shape"
      ],
      "execution_count": null,
      "outputs": [
        {
          "output_type": "execute_result",
          "data": {
            "text/plain": [
              "TensorShape([None, 28, 28, 192])"
            ]
          },
          "metadata": {
            "tags": []
          },
          "execution_count": 7
        }
      ]
    },
    {
      "cell_type": "markdown",
      "metadata": {
        "id": "aox_wQccctlO",
        "colab_type": "text"
      },
      "source": [
        "## Activdad 3\n",
        "\n",
        "\n",
        "---\n",
        "*   Los 3 (1x1,3x3 y 5x5 Colores azules) distintos tipos de convoluciones se utilizan para obtener distinta infromacion de dimensiones distintas.\n",
        "*   Las convoluciones de 3x3 y 5x5, usan una convolucion de 1x1 para reducir el tamaño de los canales.\n",
        "*   El otro camino del bloque es el que pasa por hacer primero 3x3 Max Pooling y despues una convolucion de 1x1. El proposito de esto es de cambiar el numero de canales.\n",
        "\n",
        "\n",
        "\n",
        "![imagen.png](data:image/png;base64,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)"
      ]
    },
    {
      "cell_type": "markdown",
      "metadata": {
        "id": "hETIYDAPesSS",
        "colab_type": "text"
      },
      "source": [
        "## Actividad 4\n",
        "\n",
        "---\n"
      ]
    },
    {
      "cell_type": "code",
      "metadata": {
        "id": "PrGpkDW0ewx1",
        "colab_type": "code",
        "colab": {
          "base_uri": "https://localhost:8080/",
          "height": 34
        },
        "outputId": "5da223a6-15d7-4730-cee2-1ebc4fec5974"
      },
      "source": [
        "\n",
        "\n",
        "def inception(x,filters_array,name):\n",
        "  base_conv2D_arguments={'activation':\"relu\", 'padding':'same','strides':(1,1),\n",
        "  'use_bias':False}\n",
        "  ## BRANCH 0\n",
        "  branch_0 = Conv2D(filters_array[0], (1, 1),\n",
        "  name='Mixed_'+name+'_Branch_0_a_1x1',**base_conv2D_arguments )(x)\n",
        "\n",
        "  ## BRANCH 1\n",
        "  branch_1 = Conv2D(filters_array[1], (1, 1), **base_conv2D_arguments ,\n",
        "  name='Mixed_'+name+'Branch_1_a_1x1')(x)\n",
        "\n",
        "  branch_1 = Conv2D(filters_array[2], (3, 3),**base_conv2D_arguments,\n",
        "  name='Mixed_'+name+'Branch_1_b_3x3')(branch_1)\n",
        "\n",
        "  ## BRANCH 2\n",
        "  branch_2 = Conv2D(filters_array[3], (1, 1), **base_conv2D_arguments,\n",
        "  name='Mixed_'+name+'Branch_2_a_1x1')(x)\n",
        "\n",
        "  branch_2 = Conv2D(filters_array[4], (5, 5), **base_conv2D_arguments,\n",
        "  name='Mixed_'+name+'Branch_2_b_5x5')(branch_2)\n",
        "\n",
        "  ## BRANCH 3\n",
        "  branch_3 = MaxPooling2D((3, 3), strides=(1,1), padding='same',name='MaxPool'+name+'_Branch_3_a_3x3')(x)\n",
        "\n",
        "  branch_3 = Conv2D(filters_array[5], (1, 1), **base_conv2D_arguments,\n",
        "  name='Mixed_'+name+'Branch_3_b_1x1')(branch_3)\n",
        "\n",
        "  ## CONCATENATE\n",
        "  return concatenate([branch_0,branch_1,branch_2,branch_3],\n",
        "  axis=3,\n",
        "  name='Mixed_'+name+'Concatenated')\n",
        "\n",
        "x=inception(x,[64,96,128,16,32,32],\"3A\")\n",
        "x.shape"
      ],
      "execution_count": null,
      "outputs": [
        {
          "output_type": "execute_result",
          "data": {
            "text/plain": [
              "TensorShape([None, 28, 28, 256])"
            ]
          },
          "metadata": {
            "tags": []
          },
          "execution_count": 8
        }
      ]
    },
    {
      "cell_type": "markdown",
      "metadata": {
        "id": "dtrTcnPCMZow",
        "colab_type": "text"
      },
      "source": [
        "## Actividad 5"
      ]
    },
    {
      "cell_type": "code",
      "metadata": {
        "id": "fE3Z6CPvfY3R",
        "colab_type": "code",
        "colab": {
          "base_uri": "https://localhost:8080/",
          "height": 34
        },
        "outputId": "6fed4326-d089-44ba-d2ca-f62f7d0ec8dd"
      },
      "source": [
        "# 3.b\n",
        "x=inception(x,[128,128,192,32,96,64],\"3B\")\n",
        "\n",
        "x=MaxPooling2D((3,3),strides=(2,2),padding='same',name='MaxPool_3-4_3x3')(x)\n",
        "\n",
        "\n",
        "# 4.a\n",
        "x=inception(x,[192,96,208,16,48,64],\"4A\")\n",
        "\n",
        "# 4.b\n",
        "x=inception(x,[160,112,224,24,64,64],\"4B\")\n",
        "\n",
        "# 4.c\n",
        "x=inception(x,[128,128,256,24,64,64],\"4C\")\n",
        "\n",
        "# 4.d\n",
        "x=inception(x,[112,144,288,32,64,64],\"4D\")\n",
        "\n",
        "# 4.e\n",
        "x=inception(x,[256,160,320,32,128,128],\"4E\")\n",
        "\n",
        "x=MaxPooling2D((3,3),strides=(2,2),padding='same',name='MaxPool_4-5_3x3')(x)\n",
        "\n",
        "# 5.a\n",
        "x=inception(x,[256,160,320,32,128,128],\"5A\")\n",
        "\n",
        "# 5.b\n",
        "x=inception(x,[384,192,384,48,128,128],\"5B\")\n",
        "\n",
        "x.shape\n",
        "\n"
      ],
      "execution_count": null,
      "outputs": [
        {
          "output_type": "execute_result",
          "data": {
            "text/plain": [
              "TensorShape([None, 7, 7, 1024])"
            ]
          },
          "metadata": {
            "tags": []
          },
          "execution_count": 9
        }
      ]
    },
    {
      "cell_type": "markdown",
      "metadata": {
        "id": "HW_eOf9qP4YW",
        "colab_type": "text"
      },
      "source": [
        "## Actividad 6\n",
        "\n",
        "---\n",
        "\n"
      ]
    },
    {
      "cell_type": "code",
      "metadata": {
        "id": "KdgOU4EKP9ba",
        "colab_type": "code",
        "colab": {
          "base_uri": "https://localhost:8080/",
          "height": 34
        },
        "outputId": "bfc5dfaa-3a01-489b-af56-b537a8dbe217"
      },
      "source": [
        "x=AveragePooling2D((7,7),strides=(1,1),padding='valid',name='AvgPool_7x7')(x)\n",
        "x.shape\n"
      ],
      "execution_count": null,
      "outputs": [
        {
          "output_type": "execute_result",
          "data": {
            "text/plain": [
              "TensorShape([None, 1, 1, 1024])"
            ]
          },
          "metadata": {
            "tags": []
          },
          "execution_count": 10
        }
      ]
    },
    {
      "cell_type": "code",
      "metadata": {
        "id": "1MEMXhwcEWog",
        "colab_type": "code",
        "colab": {}
      },
      "source": [
        "\n",
        "x=Flatten(name='linear')(x)\n",
        "x=Dropout(0.4,name='dropout')(x)\n",
        "x=Dense(1000)(x)\n",
        "x=Activation('softmax')(x)\n"
      ],
      "execution_count": null,
      "outputs": []
    },
    {
      "cell_type": "code",
      "metadata": {
        "id": "1zagXEMERhqA",
        "colab_type": "code",
        "colab": {
          "base_uri": "https://localhost:8080/",
          "height": 1000
        },
        "outputId": "e23ff303-c956-4c3f-bb85-1160e1348309"
      },
      "source": [
        "\n",
        "final_model = Model([Inputs],x)\n",
        "\n",
        "final_model.summary()"
      ],
      "execution_count": null,
      "outputs": [
        {
          "output_type": "stream",
          "text": [
            "Model: \"model_1\"\n",
            "__________________________________________________________________________________________________\n",
            "Layer (type)                    Output Shape         Param #     Connected to                     \n",
            "==================================================================================================\n",
            "input_1 (InputLayer)            (None, 224, 224, 3)  0                                            \n",
            "__________________________________________________________________________________________________\n",
            "Conv2d_1a_7x7_conv (Conv2D)     (None, 112, 112, 64) 9408        input_1[0][0]                    \n",
            "__________________________________________________________________________________________________\n",
            "MaxPool_2a_3x3 (MaxPooling2D)   (None, 56, 56, 64)   0           Conv2d_1a_7x7_conv[0][0]         \n",
            "__________________________________________________________________________________________________\n",
            "conv2d_1 (Conv2D)               (None, 56, 56, 64)   4096        MaxPool_2a_3x3[0][0]             \n",
            "__________________________________________________________________________________________________\n",
            "conv2d_2 (Conv2D)               (None, 56, 56, 192)  110592      conv2d_1[0][0]                   \n",
            "__________________________________________________________________________________________________\n",
            "MaxPool_2b_3x3 (MaxPooling2D)   (None, 28, 28, 192)  0           conv2d_2[0][0]                   \n",
            "__________________________________________________________________________________________________\n",
            "Mixed_3ABranch_1_a_1x1 (Conv2D) (None, 28, 28, 96)   18432       MaxPool_2b_3x3[0][0]             \n",
            "__________________________________________________________________________________________________\n",
            "Mixed_3ABranch_2_a_1x1 (Conv2D) (None, 28, 28, 16)   3072        MaxPool_2b_3x3[0][0]             \n",
            "__________________________________________________________________________________________________\n",
            "MaxPool3A_Branch_3_a_3x3 (MaxPo (None, 28, 28, 192)  0           MaxPool_2b_3x3[0][0]             \n",
            "__________________________________________________________________________________________________\n",
            "Mixed_3A_Branch_0_a_1x1 (Conv2D (None, 28, 28, 64)   12288       MaxPool_2b_3x3[0][0]             \n",
            "__________________________________________________________________________________________________\n",
            "Mixed_3ABranch_1_b_3x3 (Conv2D) (None, 28, 28, 128)  110592      Mixed_3ABranch_1_a_1x1[0][0]     \n",
            "__________________________________________________________________________________________________\n",
            "Mixed_3ABranch_2_b_5x5 (Conv2D) (None, 28, 28, 32)   12800       Mixed_3ABranch_2_a_1x1[0][0]     \n",
            "__________________________________________________________________________________________________\n",
            "Mixed_3ABranch_3_b_1x1 (Conv2D) (None, 28, 28, 32)   6144        MaxPool3A_Branch_3_a_3x3[0][0]   \n",
            "__________________________________________________________________________________________________\n",
            "Mixed_3AConcatenated (Concatena (None, 28, 28, 256)  0           Mixed_3A_Branch_0_a_1x1[0][0]    \n",
            "                                                                 Mixed_3ABranch_1_b_3x3[0][0]     \n",
            "                                                                 Mixed_3ABranch_2_b_5x5[0][0]     \n",
            "                                                                 Mixed_3ABranch_3_b_1x1[0][0]     \n",
            "__________________________________________________________________________________________________\n",
            "Mixed_3BBranch_1_a_1x1 (Conv2D) (None, 28, 28, 128)  32768       Mixed_3AConcatenated[0][0]       \n",
            "__________________________________________________________________________________________________\n",
            "Mixed_3BBranch_2_a_1x1 (Conv2D) (None, 28, 28, 32)   8192        Mixed_3AConcatenated[0][0]       \n",
            "__________________________________________________________________________________________________\n",
            "MaxPool3B_Branch_3_a_3x3 (MaxPo (None, 28, 28, 256)  0           Mixed_3AConcatenated[0][0]       \n",
            "__________________________________________________________________________________________________\n",
            "Mixed_3B_Branch_0_a_1x1 (Conv2D (None, 28, 28, 128)  32768       Mixed_3AConcatenated[0][0]       \n",
            "__________________________________________________________________________________________________\n",
            "Mixed_3BBranch_1_b_3x3 (Conv2D) (None, 28, 28, 192)  221184      Mixed_3BBranch_1_a_1x1[0][0]     \n",
            "__________________________________________________________________________________________________\n",
            "Mixed_3BBranch_2_b_5x5 (Conv2D) (None, 28, 28, 96)   76800       Mixed_3BBranch_2_a_1x1[0][0]     \n",
            "__________________________________________________________________________________________________\n",
            "Mixed_3BBranch_3_b_1x1 (Conv2D) (None, 28, 28, 64)   16384       MaxPool3B_Branch_3_a_3x3[0][0]   \n",
            "__________________________________________________________________________________________________\n",
            "Mixed_3BConcatenated (Concatena (None, 28, 28, 480)  0           Mixed_3B_Branch_0_a_1x1[0][0]    \n",
            "                                                                 Mixed_3BBranch_1_b_3x3[0][0]     \n",
            "                                                                 Mixed_3BBranch_2_b_5x5[0][0]     \n",
            "                                                                 Mixed_3BBranch_3_b_1x1[0][0]     \n",
            "__________________________________________________________________________________________________\n",
            "MaxPool_3-4_3x3 (MaxPooling2D)  (None, 14, 14, 480)  0           Mixed_3BConcatenated[0][0]       \n",
            "__________________________________________________________________________________________________\n",
            "Mixed_4ABranch_1_a_1x1 (Conv2D) (None, 14, 14, 96)   46080       MaxPool_3-4_3x3[0][0]            \n",
            "__________________________________________________________________________________________________\n",
            "Mixed_4ABranch_2_a_1x1 (Conv2D) (None, 14, 14, 16)   7680        MaxPool_3-4_3x3[0][0]            \n",
            "__________________________________________________________________________________________________\n",
            "MaxPool4A_Branch_3_a_3x3 (MaxPo (None, 14, 14, 480)  0           MaxPool_3-4_3x3[0][0]            \n",
            "__________________________________________________________________________________________________\n",
            "Mixed_4A_Branch_0_a_1x1 (Conv2D (None, 14, 14, 192)  92160       MaxPool_3-4_3x3[0][0]            \n",
            "__________________________________________________________________________________________________\n",
            "Mixed_4ABranch_1_b_3x3 (Conv2D) (None, 14, 14, 208)  179712      Mixed_4ABranch_1_a_1x1[0][0]     \n",
            "__________________________________________________________________________________________________\n",
            "Mixed_4ABranch_2_b_5x5 (Conv2D) (None, 14, 14, 48)   19200       Mixed_4ABranch_2_a_1x1[0][0]     \n",
            "__________________________________________________________________________________________________\n",
            "Mixed_4ABranch_3_b_1x1 (Conv2D) (None, 14, 14, 64)   30720       MaxPool4A_Branch_3_a_3x3[0][0]   \n",
            "__________________________________________________________________________________________________\n",
            "Mixed_4AConcatenated (Concatena (None, 14, 14, 512)  0           Mixed_4A_Branch_0_a_1x1[0][0]    \n",
            "                                                                 Mixed_4ABranch_1_b_3x3[0][0]     \n",
            "                                                                 Mixed_4ABranch_2_b_5x5[0][0]     \n",
            "                                                                 Mixed_4ABranch_3_b_1x1[0][0]     \n",
            "__________________________________________________________________________________________________\n",
            "Mixed_4BBranch_1_a_1x1 (Conv2D) (None, 14, 14, 112)  57344       Mixed_4AConcatenated[0][0]       \n",
            "__________________________________________________________________________________________________\n",
            "Mixed_4BBranch_2_a_1x1 (Conv2D) (None, 14, 14, 24)   12288       Mixed_4AConcatenated[0][0]       \n",
            "__________________________________________________________________________________________________\n",
            "MaxPool4B_Branch_3_a_3x3 (MaxPo (None, 14, 14, 512)  0           Mixed_4AConcatenated[0][0]       \n",
            "__________________________________________________________________________________________________\n",
            "Mixed_4B_Branch_0_a_1x1 (Conv2D (None, 14, 14, 160)  81920       Mixed_4AConcatenated[0][0]       \n",
            "__________________________________________________________________________________________________\n",
            "Mixed_4BBranch_1_b_3x3 (Conv2D) (None, 14, 14, 224)  225792      Mixed_4BBranch_1_a_1x1[0][0]     \n",
            "__________________________________________________________________________________________________\n",
            "Mixed_4BBranch_2_b_5x5 (Conv2D) (None, 14, 14, 64)   38400       Mixed_4BBranch_2_a_1x1[0][0]     \n",
            "__________________________________________________________________________________________________\n",
            "Mixed_4BBranch_3_b_1x1 (Conv2D) (None, 14, 14, 64)   32768       MaxPool4B_Branch_3_a_3x3[0][0]   \n",
            "__________________________________________________________________________________________________\n",
            "Mixed_4BConcatenated (Concatena (None, 14, 14, 512)  0           Mixed_4B_Branch_0_a_1x1[0][0]    \n",
            "                                                                 Mixed_4BBranch_1_b_3x3[0][0]     \n",
            "                                                                 Mixed_4BBranch_2_b_5x5[0][0]     \n",
            "                                                                 Mixed_4BBranch_3_b_1x1[0][0]     \n",
            "__________________________________________________________________________________________________\n",
            "Mixed_4CBranch_1_a_1x1 (Conv2D) (None, 14, 14, 128)  65536       Mixed_4BConcatenated[0][0]       \n",
            "__________________________________________________________________________________________________\n",
            "Mixed_4CBranch_2_a_1x1 (Conv2D) (None, 14, 14, 24)   12288       Mixed_4BConcatenated[0][0]       \n",
            "__________________________________________________________________________________________________\n",
            "MaxPool4C_Branch_3_a_3x3 (MaxPo (None, 14, 14, 512)  0           Mixed_4BConcatenated[0][0]       \n",
            "__________________________________________________________________________________________________\n",
            "Mixed_4C_Branch_0_a_1x1 (Conv2D (None, 14, 14, 128)  65536       Mixed_4BConcatenated[0][0]       \n",
            "__________________________________________________________________________________________________\n",
            "Mixed_4CBranch_1_b_3x3 (Conv2D) (None, 14, 14, 256)  294912      Mixed_4CBranch_1_a_1x1[0][0]     \n",
            "__________________________________________________________________________________________________\n",
            "Mixed_4CBranch_2_b_5x5 (Conv2D) (None, 14, 14, 64)   38400       Mixed_4CBranch_2_a_1x1[0][0]     \n",
            "__________________________________________________________________________________________________\n",
            "Mixed_4CBranch_3_b_1x1 (Conv2D) (None, 14, 14, 64)   32768       MaxPool4C_Branch_3_a_3x3[0][0]   \n",
            "__________________________________________________________________________________________________\n",
            "Mixed_4CConcatenated (Concatena (None, 14, 14, 512)  0           Mixed_4C_Branch_0_a_1x1[0][0]    \n",
            "                                                                 Mixed_4CBranch_1_b_3x3[0][0]     \n",
            "                                                                 Mixed_4CBranch_2_b_5x5[0][0]     \n",
            "                                                                 Mixed_4CBranch_3_b_1x1[0][0]     \n",
            "__________________________________________________________________________________________________\n",
            "Mixed_4DBranch_1_a_1x1 (Conv2D) (None, 14, 14, 144)  73728       Mixed_4CConcatenated[0][0]       \n",
            "__________________________________________________________________________________________________\n",
            "Mixed_4DBranch_2_a_1x1 (Conv2D) (None, 14, 14, 32)   16384       Mixed_4CConcatenated[0][0]       \n",
            "__________________________________________________________________________________________________\n",
            "MaxPool4D_Branch_3_a_3x3 (MaxPo (None, 14, 14, 512)  0           Mixed_4CConcatenated[0][0]       \n",
            "__________________________________________________________________________________________________\n",
            "Mixed_4D_Branch_0_a_1x1 (Conv2D (None, 14, 14, 112)  57344       Mixed_4CConcatenated[0][0]       \n",
            "__________________________________________________________________________________________________\n",
            "Mixed_4DBranch_1_b_3x3 (Conv2D) (None, 14, 14, 288)  373248      Mixed_4DBranch_1_a_1x1[0][0]     \n",
            "__________________________________________________________________________________________________\n",
            "Mixed_4DBranch_2_b_5x5 (Conv2D) (None, 14, 14, 64)   51200       Mixed_4DBranch_2_a_1x1[0][0]     \n",
            "__________________________________________________________________________________________________\n",
            "Mixed_4DBranch_3_b_1x1 (Conv2D) (None, 14, 14, 64)   32768       MaxPool4D_Branch_3_a_3x3[0][0]   \n",
            "__________________________________________________________________________________________________\n",
            "Mixed_4DConcatenated (Concatena (None, 14, 14, 528)  0           Mixed_4D_Branch_0_a_1x1[0][0]    \n",
            "                                                                 Mixed_4DBranch_1_b_3x3[0][0]     \n",
            "                                                                 Mixed_4DBranch_2_b_5x5[0][0]     \n",
            "                                                                 Mixed_4DBranch_3_b_1x1[0][0]     \n",
            "__________________________________________________________________________________________________\n",
            "Mixed_4EBranch_1_a_1x1 (Conv2D) (None, 14, 14, 160)  84480       Mixed_4DConcatenated[0][0]       \n",
            "__________________________________________________________________________________________________\n",
            "Mixed_4EBranch_2_a_1x1 (Conv2D) (None, 14, 14, 32)   16896       Mixed_4DConcatenated[0][0]       \n",
            "__________________________________________________________________________________________________\n",
            "MaxPool4E_Branch_3_a_3x3 (MaxPo (None, 14, 14, 528)  0           Mixed_4DConcatenated[0][0]       \n",
            "__________________________________________________________________________________________________\n",
            "Mixed_4E_Branch_0_a_1x1 (Conv2D (None, 14, 14, 256)  135168      Mixed_4DConcatenated[0][0]       \n",
            "__________________________________________________________________________________________________\n",
            "Mixed_4EBranch_1_b_3x3 (Conv2D) (None, 14, 14, 320)  460800      Mixed_4EBranch_1_a_1x1[0][0]     \n",
            "__________________________________________________________________________________________________\n",
            "Mixed_4EBranch_2_b_5x5 (Conv2D) (None, 14, 14, 128)  102400      Mixed_4EBranch_2_a_1x1[0][0]     \n",
            "__________________________________________________________________________________________________\n",
            "Mixed_4EBranch_3_b_1x1 (Conv2D) (None, 14, 14, 128)  67584       MaxPool4E_Branch_3_a_3x3[0][0]   \n",
            "__________________________________________________________________________________________________\n",
            "Mixed_4EConcatenated (Concatena (None, 14, 14, 832)  0           Mixed_4E_Branch_0_a_1x1[0][0]    \n",
            "                                                                 Mixed_4EBranch_1_b_3x3[0][0]     \n",
            "                                                                 Mixed_4EBranch_2_b_5x5[0][0]     \n",
            "                                                                 Mixed_4EBranch_3_b_1x1[0][0]     \n",
            "__________________________________________________________________________________________________\n",
            "MaxPool_4-5_3x3 (MaxPooling2D)  (None, 7, 7, 832)    0           Mixed_4EConcatenated[0][0]       \n",
            "__________________________________________________________________________________________________\n",
            "Mixed_5ABranch_1_a_1x1 (Conv2D) (None, 7, 7, 160)    133120      MaxPool_4-5_3x3[0][0]            \n",
            "__________________________________________________________________________________________________\n",
            "Mixed_5ABranch_2_a_1x1 (Conv2D) (None, 7, 7, 32)     26624       MaxPool_4-5_3x3[0][0]            \n",
            "__________________________________________________________________________________________________\n",
            "MaxPool5A_Branch_3_a_3x3 (MaxPo (None, 7, 7, 832)    0           MaxPool_4-5_3x3[0][0]            \n",
            "__________________________________________________________________________________________________\n",
            "Mixed_5A_Branch_0_a_1x1 (Conv2D (None, 7, 7, 256)    212992      MaxPool_4-5_3x3[0][0]            \n",
            "__________________________________________________________________________________________________\n",
            "Mixed_5ABranch_1_b_3x3 (Conv2D) (None, 7, 7, 320)    460800      Mixed_5ABranch_1_a_1x1[0][0]     \n",
            "__________________________________________________________________________________________________\n",
            "Mixed_5ABranch_2_b_5x5 (Conv2D) (None, 7, 7, 128)    102400      Mixed_5ABranch_2_a_1x1[0][0]     \n",
            "__________________________________________________________________________________________________\n",
            "Mixed_5ABranch_3_b_1x1 (Conv2D) (None, 7, 7, 128)    106496      MaxPool5A_Branch_3_a_3x3[0][0]   \n",
            "__________________________________________________________________________________________________\n",
            "Mixed_5AConcatenated (Concatena (None, 7, 7, 832)    0           Mixed_5A_Branch_0_a_1x1[0][0]    \n",
            "                                                                 Mixed_5ABranch_1_b_3x3[0][0]     \n",
            "                                                                 Mixed_5ABranch_2_b_5x5[0][0]     \n",
            "                                                                 Mixed_5ABranch_3_b_1x1[0][0]     \n",
            "__________________________________________________________________________________________________\n",
            "Mixed_5BBranch_1_a_1x1 (Conv2D) (None, 7, 7, 192)    159744      Mixed_5AConcatenated[0][0]       \n",
            "__________________________________________________________________________________________________\n",
            "Mixed_5BBranch_2_a_1x1 (Conv2D) (None, 7, 7, 48)     39936       Mixed_5AConcatenated[0][0]       \n",
            "__________________________________________________________________________________________________\n",
            "MaxPool5B_Branch_3_a_3x3 (MaxPo (None, 7, 7, 832)    0           Mixed_5AConcatenated[0][0]       \n",
            "__________________________________________________________________________________________________\n",
            "Mixed_5B_Branch_0_a_1x1 (Conv2D (None, 7, 7, 384)    319488      Mixed_5AConcatenated[0][0]       \n",
            "__________________________________________________________________________________________________\n",
            "Mixed_5BBranch_1_b_3x3 (Conv2D) (None, 7, 7, 384)    663552      Mixed_5BBranch_1_a_1x1[0][0]     \n",
            "__________________________________________________________________________________________________\n",
            "Mixed_5BBranch_2_b_5x5 (Conv2D) (None, 7, 7, 128)    153600      Mixed_5BBranch_2_a_1x1[0][0]     \n",
            "__________________________________________________________________________________________________\n",
            "Mixed_5BBranch_3_b_1x1 (Conv2D) (None, 7, 7, 128)    106496      MaxPool5B_Branch_3_a_3x3[0][0]   \n",
            "__________________________________________________________________________________________________\n",
            "Mixed_5BConcatenated (Concatena (None, 7, 7, 1024)   0           Mixed_5B_Branch_0_a_1x1[0][0]    \n",
            "                                                                 Mixed_5BBranch_1_b_3x3[0][0]     \n",
            "                                                                 Mixed_5BBranch_2_b_5x5[0][0]     \n",
            "                                                                 Mixed_5BBranch_3_b_1x1[0][0]     \n",
            "__________________________________________________________________________________________________\n",
            "AvgPool_7x7 (AveragePooling2D)  (None, 1, 1, 1024)   0           Mixed_5BConcatenated[0][0]       \n",
            "__________________________________________________________________________________________________\n",
            "linear (Flatten)                (None, 1024)         0           AvgPool_7x7[0][0]                \n",
            "__________________________________________________________________________________________________\n",
            "dropout (Dropout)               (None, 1024)         0           linear[0][0]                     \n",
            "__________________________________________________________________________________________________\n",
            "dense_1 (Dense)                 (None, 1000)         1025000     dropout[0][0]                    \n",
            "__________________________________________________________________________________________________\n",
            "activation_1 (Activation)       (None, 1000)         0           dense_1[0][0]                    \n",
            "==================================================================================================\n",
            "Total params: 6,991,272\n",
            "Trainable params: 6,991,272\n",
            "Non-trainable params: 0\n",
            "__________________________________________________________________________________________________\n"
          ],
          "name": "stdout"
        }
      ]
    },
    {
      "cell_type": "code",
      "metadata": {
        "id": "hcD1SnE-Rb7z",
        "colab_type": "code",
        "colab": {}
      },
      "source": [
        "\n"
      ],
      "execution_count": null,
      "outputs": []
    },
    {
      "cell_type": "markdown",
      "metadata": {
        "id": "zvdYYjCSY_LJ",
        "colab_type": "text"
      },
      "source": [
        "Se puede ver en el model.summary, que la salida son 1000 clasificadores\n",
        "\n",
        "Segun el paper: \"The softmax probabilities are averaged over multiplecrops and over all the individual classifiers to obtainthe final prediction.  In our experiments we analyzed alternative approaches on the validation data, such as **max pooling** over crops and averaging over classifiers,but they lead to inferior performance than the simple averaging\"\n",
        "\n",
        "Es decir, utilizaron softmax para las predicccions finales y validaciones de los datos.Entregaban mejor performacnce que usar MaxPooling."
      ]
    },
    {
      "cell_type": "markdown",
      "metadata": {
        "id": "78PacyZygm2t",
        "colab_type": "text"
      },
      "source": [
        "# Parte 2\n",
        "\n"
      ]
    },
    {
      "cell_type": "markdown",
      "metadata": {
        "id": "TOky1oG44Qdn",
        "colab_type": "text"
      },
      "source": [
        "## Actividad 7\n",
        "\n",
        "\n",
        "| Red            | Profundidad | Numero de parametros | Rendimiento |\n",
        "|----------------|-------------|----------------------|-------------|\n",
        "| AlexNet (DCCN) | 5           | 60 Millones          | 63,3        |\n",
        "| ResNet-50      | 50          | 25.6 Millones        | 81,2        |\n",
        "| GoogleLeNet    | 22          | 5 Millones           | 69,8%       |\n",
        "\n",
        "Fuente https://paperswithcode.com/sota/image-classification-on-imagenet\n",
        "\n",
        "* Mejorar el numero de capas puede mejorar el rendimiento. \n",
        "* El numero de parametros no es un determinante para obtener mejores rendimientos.\n",
        "* No hay una \"formula\" que describa que un numero de capas entrega cierto rendimiento. Lo interesante es que GoogleNet tiene mejor rendimiento que AlexNet al agregarle varias capas y entrenar menor parametros. \n",
        "* La leccion aprendida es que se deben manejar ambos parametros (numeros de capas y numero de parametros) para tratar de encontrar soluciones que sean mas costo eficientes y con altos rendimientos.\n"
      ]
    },
    {
      "cell_type": "code",
      "metadata": {
        "id": "s5gGvcS1T_vM",
        "colab_type": "code",
        "colab": {
          "base_uri": "https://localhost:8080/",
          "height": 34
        },
        "outputId": "db9b535e-1f0e-4f83-e6bf-60115776d0f7"
      },
      "source": [
        "import tensorflow as tf\n",
        "tf.test.gpu_device_name()"
      ],
      "execution_count": null,
      "outputs": [
        {
          "output_type": "execute_result",
          "data": {
            "text/plain": [
              "'/device:GPU:0'"
            ]
          },
          "metadata": {
            "tags": []
          },
          "execution_count": 13
        }
      ]
    },
    {
      "cell_type": "markdown",
      "metadata": {
        "id": "Ygq4GULqsA3W",
        "colab_type": "text"
      },
      "source": [
        "## Actividad 8\n",
        "\n",
        "El modelo que se utilizo es una implementacion de GoogLeNet que esta ajustado para CIFAR-10\n",
        "\n",
        "https://github.com/meng1994412/GoogLeNet_from_scratch\n",
        "\n",
        "\n",
        "CIFAR-10 Tiene 6000 imagenes, se utilizan 5000 para el entrenamiento y 1000 para la validacion.\n",
        "\n",
        "La solucion que se presenta fue llevada acabo a partir de varias iteraciones de distintos optimizadores y hiperparametros. \n",
        "* Primero se entreno usando RMProp con el \n",
        "proposito de seguir las recomendaciones para GoogleLeNet. \n",
        "* Se inicializo con un LR (Learning Rate) de 1e-4 como fue recomendado por el profesor en clse. \n",
        "* El problema es que este entrenamiento se tardaba mucho (3 horas para 50 epocas) y mientras estaba entrenado el accuracy en el set de validacion y entrenamiento se quedo estancado ~60%\n",
        "\n",
        "Dado el alto costo de entrenamiento y los resultados poco satisfactorios, decidi modificar el optimizador y utilizar ADAM para tratar de mejorar los tiempos de entrenamiento. La idea fue inspirada por las clases, que fue empezar con ADAM y despues utilizar SGD para mejorar el accuracy (camino lento pero seguro). Utilizando estas tecnicas se llego a un accuracy de ~80% en solo 1 hora de entrenamiento. \n",
        "* Para poder hacer ese cambio, se guardo los parametros entrenados en un archivo en Drive para cada epocha y despues se cargo a partir de las epochas anteriores. Esto permitia cambiar los optimizadores a \"medio camino\"\n",
        "\n",
        "- El ajuste de parametros fue manual dado que no logre utilizar las librerias optimizadoras que encontre. Se me desconectaba Colab o tenia problemas entre las version de keras que usa tensorflow y keras normal.\n",
        "\n",
        "- El tamaño de minibatch se aumento de 32 a 100, sin mayor diferencia en el accuracy. Se disminuyo en ~2% pero se gano tiempo de entrenamiento."
      ]
    },
    {
      "cell_type": "markdown",
      "metadata": {
        "id": "0USE3OAUOF1G",
        "colab_type": "text"
      },
      "source": [
        "MiniGoogLeNet https://github.com/meng1994412/GoogLeNet_from_scratch/blob/master/pipeline/nn/conv/minigooglenet.py"
      ]
    },
    {
      "cell_type": "code",
      "metadata": {
        "id": "X0ZrR5r3Rl0r",
        "colab_type": "code",
        "colab": {
          "base_uri": "https://localhost:8080/",
          "height": 34
        },
        "outputId": "290f5647-7f04-4d30-8647-0572208c95e3"
      },
      "source": [
        "import keras\n",
        "from keras.layers.normalization import BatchNormalization\n",
        "from keras.layers.convolutional import Conv2D\n",
        "from keras.layers.convolutional import MaxPooling2D\n",
        "from keras.layers.convolutional import AveragePooling2D\n",
        "from keras.layers.core import Activation\n",
        "from keras.layers.core import Dense\n",
        "from keras.layers.core import Dropout\n",
        "from keras.layers import Flatten\n",
        "from keras.layers import Input\n",
        "from keras.models import Model\n",
        "from keras.layers import concatenate\n",
        "from keras import backend as K\n",
        "from keras.callbacks import *\n",
        "from keras.datasets import cifar10,cifar100\n",
        "from keras.preprocessing.image import ImageDataGenerator\n",
        "from keras.models import Sequential\n",
        "from keras.layers import  Activation\n",
        "from keras.layers import Conv2D, MaxPooling2D\n",
        "from keras.optimizers import RMSprop,SGD,Adam\n",
        "\n",
        "import os\n",
        "import datetime\n",
        "from keras.callbacks import TensorBoard"
      ],
      "execution_count": null,
      "outputs": [
        {
          "output_type": "stream",
          "text": [
            "Using TensorFlow backend.\n"
          ],
          "name": "stderr"
        }
      ]
    },
    {
      "cell_type": "code",
      "metadata": {
        "id": "eYt9ZU3qO9aC",
        "colab_type": "code",
        "colab": {}
      },
      "source": [
        "class MiniGoogLeNet:\n",
        "    @staticmethod\n",
        "    def conv_module(x, K, kX, kY, stride, chanDim, padding = \"same\"):\n",
        "        # define a CONV => BN => RELU pattern\n",
        "        x = Conv2D(K, (kX, kY), strides = stride, padding = padding)(x)\n",
        "        x = BatchNormalization(axis = chanDim)(x)\n",
        "        x = Activation(\"relu\")(x)\n",
        "\n",
        "        # return the block\n",
        "        return x\n",
        "\n",
        "    @staticmethod\n",
        "    def inception_module(x, numK1x1, numK3x3, chanDim):\n",
        "        # define two CONV modules, then concatenate across the channel dimension\n",
        "        conv_1x1 = MiniGoogLeNet.conv_module(x, numK1x1, 1, 1, (1, 1), chanDim)\n",
        "        conv_3x3 = MiniGoogLeNet.conv_module(x, numK3x3, 3, 3, (1, 1), chanDim)\n",
        "        x = concatenate([conv_1x1, conv_3x3], axis = chanDim)\n",
        "\n",
        "        # return the block\n",
        "        return x\n",
        "\n",
        "    @staticmethod\n",
        "    def downsample_module(x, K, chanDim):\n",
        "        # define the CONV module and POOL, then concatenate across the channel dimensions\n",
        "        conv_3x3 = MiniGoogLeNet.conv_module(x, K, 3, 3, (2, 2), chanDim, padding = \"valid\")\n",
        "        pool = MaxPooling2D((3, 3), strides = (2, 2))(x)\n",
        "        x = concatenate([conv_3x3, pool], axis = chanDim)\n",
        "\n",
        "        # return the block\n",
        "        return x\n",
        "\n",
        "    @staticmethod\n",
        "    def build(width, height, depth, classes):\n",
        "        # initialize the input shape to be \"channel last\" and channels dimension itself\n",
        "        inputShape = (height, width, depth)\n",
        "        chanDim = -1\n",
        "\n",
        "        # if we are using \"channel first\", update the inpute shape and channel dimension\n",
        "        if K.image_data_format() == \"channels_first\":\n",
        "            inputShape = (depth, height, width)\n",
        "            chanDim = 1\n",
        "\n",
        "        # define the model input and first CONV module\n",
        "        inputs = Input(shape = inputShape)\n",
        "        x = MiniGoogLeNet.conv_module(inputs, 96, 3, 3, (1, 1), chanDim)\n",
        "\n",
        "        # two Inception modules followed by a downsample module\n",
        "        x = MiniGoogLeNet.inception_module(x, 32, 32, chanDim)\n",
        "        x = MiniGoogLeNet.inception_module(x, 32, 48, chanDim)\n",
        "        x = MiniGoogLeNet.downsample_module(x, 80, chanDim)\n",
        "\n",
        "        # four Inception module followed by a downsample module\n",
        "        x = MiniGoogLeNet.inception_module(x, 112, 48, chanDim)\n",
        "        x = MiniGoogLeNet.inception_module(x, 96, 64, chanDim)\n",
        "        x = MiniGoogLeNet.inception_module(x, 80, 80, chanDim)\n",
        "        x = MiniGoogLeNet.inception_module(x, 48, 96, chanDim)\n",
        "        x = MiniGoogLeNet.downsample_module(x, 96, chanDim)\n",
        "\n",
        "        # two Inception module followed by global POOL and dropout\n",
        "        x = MiniGoogLeNet.inception_module(x, 176, 160, chanDim)\n",
        "        x = MiniGoogLeNet.inception_module(x, 176, 160, chanDim)\n",
        "        x = AveragePooling2D((7, 7))(x)\n",
        "        x = Dropout(0.5)(x)\n",
        "\n",
        "        # softmax classifier\n",
        "        x = Flatten()(x)\n",
        "        x = Dense(classes)(x)\n",
        "        x = Activation(\"softmax\")(x)\n",
        "\n",
        "        # create the model\n",
        "        model = Model(inputs, x, name = \"googlenet\")\n",
        "\n",
        "        # return the constructed network architecture\n",
        "        return model"
      ],
      "execution_count": null,
      "outputs": []
    },
    {
      "cell_type": "code",
      "metadata": {
        "id": "H9rVJjdZa7Of",
        "colab_type": "code",
        "colab": {}
      },
      "source": [
        "\n",
        "batch_size = 32\n",
        "num_classes = 10\n",
        "epochs = 100\n",
        "data_augmentation = True\n",
        "num_predictions = 20\n",
        "save_dir = os.path.join(os.getcwd(), 'saved_models')\n",
        "model_name = 'keras_cifar10_trained_model.h5'\n",
        "\n",
        "filepath=\"/content/drive/My Drive/Carpeta sin título/epochs:{epoch:03d}.hdf5\"\n",
        "checkpoint = ModelCheckpoint(filepath, monitor='val_accuracy', verbose=1, save_best_only=True, mode='max')\n",
        "log_dir = \"logs/fit/\" + datetime.datetime.now().strftime(\"%Y%m%d-%H%M%S\")\n",
        "tensorboard_callback = TensorBoard(log_dir=log_dir, histogram_freq=1)\n",
        "callbacks_list = [tensorboard_callback]\n",
        "\n",
        "\n",
        "def data():\n",
        "  # The data, split between train and test sets:\n",
        "  (x_train, y_train), (x_test, y_test) = cifar10.load_data()\n",
        "  print('x_train shape:', x_train.shape)\n",
        "  print(x_train.shape[0], 'train samples')\n",
        "  print(x_test.shape[0], 'test samples')\n",
        "\n",
        "  # Convert class vectors to binary class matrices.\n",
        "  y_train = keras.utils.to_categorical(y_train, num_classes)\n",
        "  y_test = keras.utils.to_categorical(y_test, num_classes)\n",
        "\n",
        "\n",
        "\n",
        "  x_train = x_train.astype('float32')\n",
        "  x_test = x_test.astype('float32')\n",
        "  x_train /= 255\n",
        "  x_test /= 255\n",
        "  return x_train,y_train,x_test,y_test\n"
      ],
      "execution_count": null,
      "outputs": []
    },
    {
      "cell_type": "code",
      "metadata": {
        "id": "JY7z6R5eOBjo",
        "colab_type": "code",
        "colab": {
          "base_uri": "https://localhost:8080/",
          "height": 1000
        },
        "outputId": "808c7c5c-d7bf-426f-b084-ae7c46888f36"
      },
      "source": [
        "model= MiniGoogLeNet.build(width = 32, height = 32, depth = 3, classes = 10)\n",
        "# initiate RMSprop optimizer\n",
        "# opt = RMSprop(learning_rate=1e-4,decay=1e-6)\n",
        "opt = Adam(learning_rate=1e-4)\n",
        "\n",
        "# model.compile(optimizer=opt,loss=)\n",
        "model.compile(loss='categorical_crossentropy',\n",
        "              optimizer=opt,\n",
        "              metrics=['accuracy'])\n",
        "print('Not using data augmentation.')\n",
        "\n",
        "\n",
        "saved_epochs=0\n",
        "# model.load_weights(\"/content/drive/My Drive/Carpeta sin título/epochs:{epochs:03d}.hdf5\".format(epochs=saved_epochs))\n",
        "\n",
        "print('Not using data augmentation.')\n",
        "x_train,y_train,x_test,y_test=data()\n",
        "history=model.fit(x_train, y_train,\n",
        "          batch_size=batch_size,\n",
        "          epochs=30,\n",
        "          initial_epoch=saved_epochs,\n",
        "          validation_data=(x_test, y_test),\n",
        "          shuffle=True,\n",
        "          callbacks=callbacks_list)\n",
        "score, acc = model.evaluate(x_test, y_test, verbose=0)\n",
        "\n"
      ],
      "execution_count": null,
      "outputs": [
        {
          "output_type": "stream",
          "text": [
            "Not using data augmentation.\n",
            "Not using data augmentation.\n",
            "Downloading data from https://www.cs.toronto.edu/~kriz/cifar-10-python.tar.gz\n",
            "170500096/170498071 [==============================] - 4s 0us/step\n",
            "x_train shape: (50000, 32, 32, 3)\n",
            "50000 train samples\n",
            "10000 test samples\n",
            "Train on 50000 samples, validate on 10000 samples\n",
            "Epoch 1/30\n",
            "  160/50000 [..............................] - ETA: 55:02 - loss: 2.4997 - accuracy: 0.1250  "
          ],
          "name": "stdout"
        },
        {
          "output_type": "stream",
          "text": [
            "/usr/local/lib/python3.6/dist-packages/keras/callbacks/callbacks.py:95: RuntimeWarning: Method (on_train_batch_end) is slow compared to the batch update (0.125604). Check your callbacks.\n",
            "  % (hook_name, delta_t_median), RuntimeWarning)\n"
          ],
          "name": "stderr"
        },
        {
          "output_type": "stream",
          "text": [
            "50000/50000 [==============================] - 115s 2ms/step - loss: 1.3940 - accuracy: 0.4971 - val_loss: 1.0891 - val_accuracy: 0.6095\n",
            "Epoch 2/30\n",
            "50000/50000 [==============================] - 104s 2ms/step - loss: 0.9728 - accuracy: 0.6580 - val_loss: 1.0244 - val_accuracy: 0.6502\n",
            "Epoch 3/30\n",
            "50000/50000 [==============================] - 105s 2ms/step - loss: 0.7859 - accuracy: 0.7274 - val_loss: 1.0995 - val_accuracy: 0.6202\n",
            "Epoch 4/30\n",
            "50000/50000 [==============================] - 107s 2ms/step - loss: 0.6569 - accuracy: 0.7730 - val_loss: 0.8778 - val_accuracy: 0.6980\n",
            "Epoch 5/30\n",
            "50000/50000 [==============================] - 106s 2ms/step - loss: 0.5556 - accuracy: 0.8089 - val_loss: 0.7330 - val_accuracy: 0.7496\n",
            "Epoch 6/30\n",
            "50000/50000 [==============================] - 104s 2ms/step - loss: 0.4581 - accuracy: 0.8453 - val_loss: 0.9153 - val_accuracy: 0.7075\n",
            "Epoch 7/30\n",
            "50000/50000 [==============================] - 104s 2ms/step - loss: 0.3890 - accuracy: 0.8692 - val_loss: 0.7647 - val_accuracy: 0.7538\n",
            "Epoch 8/30\n",
            "50000/50000 [==============================] - 103s 2ms/step - loss: 0.3233 - accuracy: 0.8926 - val_loss: 0.7791 - val_accuracy: 0.7546\n",
            "Epoch 9/30\n",
            "50000/50000 [==============================] - 103s 2ms/step - loss: 0.2562 - accuracy: 0.9146 - val_loss: 0.7012 - val_accuracy: 0.7791\n",
            "Epoch 10/30\n",
            "50000/50000 [==============================] - 103s 2ms/step - loss: 0.2127 - accuracy: 0.9299 - val_loss: 0.8712 - val_accuracy: 0.7462\n",
            "Epoch 11/30\n",
            "50000/50000 [==============================] - 103s 2ms/step - loss: 0.1717 - accuracy: 0.9438 - val_loss: 1.1583 - val_accuracy: 0.7060\n",
            "Epoch 12/30\n",
            "50000/50000 [==============================] - 103s 2ms/step - loss: 0.1484 - accuracy: 0.9514 - val_loss: 0.7495 - val_accuracy: 0.7729\n",
            "Epoch 13/30\n",
            "50000/50000 [==============================] - 103s 2ms/step - loss: 0.1274 - accuracy: 0.9590 - val_loss: 0.9914 - val_accuracy: 0.7463\n",
            "Epoch 14/30\n",
            "50000/50000 [==============================] - 102s 2ms/step - loss: 0.1155 - accuracy: 0.9621 - val_loss: 1.1334 - val_accuracy: 0.7392\n",
            "Epoch 15/30\n",
            "50000/50000 [==============================] - 103s 2ms/step - loss: 0.1040 - accuracy: 0.9650 - val_loss: 1.0611 - val_accuracy: 0.7373\n",
            "Epoch 16/30\n",
            "50000/50000 [==============================] - 104s 2ms/step - loss: 0.0948 - accuracy: 0.9676 - val_loss: 1.0268 - val_accuracy: 0.7638\n",
            "Epoch 17/30\n",
            "50000/50000 [==============================] - 103s 2ms/step - loss: 0.0829 - accuracy: 0.9737 - val_loss: 0.9141 - val_accuracy: 0.7722\n",
            "Epoch 18/30\n",
            "50000/50000 [==============================] - 103s 2ms/step - loss: 0.0842 - accuracy: 0.9722 - val_loss: 1.5704 - val_accuracy: 0.6825\n",
            "Epoch 19/30\n",
            "50000/50000 [==============================] - 103s 2ms/step - loss: 0.0771 - accuracy: 0.9747 - val_loss: 1.0428 - val_accuracy: 0.7653\n",
            "Epoch 20/30\n",
            "50000/50000 [==============================] - 103s 2ms/step - loss: 0.0691 - accuracy: 0.9776 - val_loss: 1.1633 - val_accuracy: 0.7497\n",
            "Epoch 21/30\n",
            "50000/50000 [==============================] - 104s 2ms/step - loss: 0.0635 - accuracy: 0.9800 - val_loss: 1.2795 - val_accuracy: 0.7482\n",
            "Epoch 22/30\n",
            "50000/50000 [==============================] - 104s 2ms/step - loss: 0.0710 - accuracy: 0.9763 - val_loss: 0.9131 - val_accuracy: 0.7873\n",
            "Epoch 23/30\n",
            "50000/50000 [==============================] - 104s 2ms/step - loss: 0.0622 - accuracy: 0.9788 - val_loss: 0.8972 - val_accuracy: 0.7851\n",
            "Epoch 24/30\n",
            "50000/50000 [==============================] - 103s 2ms/step - loss: 0.0576 - accuracy: 0.9808 - val_loss: 1.0543 - val_accuracy: 0.7630\n",
            "Epoch 25/30\n",
            "50000/50000 [==============================] - 103s 2ms/step - loss: 0.0579 - accuracy: 0.9808 - val_loss: 1.3932 - val_accuracy: 0.7343\n",
            "Epoch 26/30\n",
            "50000/50000 [==============================] - 103s 2ms/step - loss: 0.0570 - accuracy: 0.9811 - val_loss: 1.1740 - val_accuracy: 0.7525\n",
            "Epoch 27/30\n",
            "50000/50000 [==============================] - 103s 2ms/step - loss: 0.0505 - accuracy: 0.9831 - val_loss: 0.8644 - val_accuracy: 0.7995\n",
            "Epoch 28/30\n",
            "50000/50000 [==============================] - 103s 2ms/step - loss: 0.0515 - accuracy: 0.9834 - val_loss: 0.9274 - val_accuracy: 0.7931\n",
            "Epoch 29/30\n",
            "50000/50000 [==============================] - 102s 2ms/step - loss: 0.0541 - accuracy: 0.9814 - val_loss: 1.2597 - val_accuracy: 0.7359\n",
            "Epoch 30/30\n",
            "50000/50000 [==============================] - 102s 2ms/step - loss: 0.0483 - accuracy: 0.9840 - val_loss: 0.9656 - val_accuracy: 0.7902\n"
          ],
          "name": "stdout"
        }
      ]
    },
    {
      "cell_type": "markdown",
      "metadata": {
        "id": "pQfTIwhWbbE7",
        "colab_type": "text"
      },
      "source": [
        "Se entreno hasta el epoch 55 con RMSProp, y despues se utilizo SGD porque el val_accuracy se quedo estancado en ~76%. Usando SGD desde ese punto el accuracy subio a 83%. No mejoro el accuracy mas alla de ese valor.\n"
      ]
    },
    {
      "cell_type": "markdown",
      "metadata": {
        "id": "CYt3dClCkXH3",
        "colab_type": "text"
      },
      "source": [
        ""
      ]
    },
    {
      "cell_type": "code",
      "metadata": {
        "id": "NsLvdOOWYGJ1",
        "colab_type": "code",
        "colab": {
          "base_uri": "https://localhost:8080/",
          "height": 573
        },
        "outputId": "54b8f4ee-a9c6-49c9-970e-193fc413abd7"
      },
      "source": [
        "import matplotlib.pyplot as plt\n",
        "# Plot training & validation accuracy values\n",
        "plt.plot(history.history['accuracy'])\n",
        "plt.plot(history.history['val_accuracy'])\n",
        "plt.title('Model accuracy')\n",
        "plt.ylabel('Accuracy')\n",
        "plt.xlabel('Epoch')\n",
        "plt.legend(['Train', 'Test'], loc='upper left')\n",
        "plt.show()\n",
        "\n",
        "# Plot training & validation loss values\n",
        "plt.plot(history.history['loss'])\n",
        "plt.plot(history.history['val_loss'])\n",
        "plt.title('Model loss')\n",
        "plt.ylabel('Loss')\n",
        "plt.xlabel('Epoch')\n",
        "plt.legend(['Train', 'Test'], loc='upper left')\n",
        "plt.show()\n"
      ],
      "execution_count": null,
      "outputs": [
        {
          "output_type": "display_data",
          "data": {
            "image/png": "[encoded data removed]",
            "text/plain": [
              "<Figure size 432x288 with 1 Axes>"
            ]
          },
          "metadata": {
            "tags": [],
            "needs_background": "light"
          }
        },
        {
          "output_type": "display_data",
          "data": {
            "image/png": "[encoded data removed]",
            "text/plain": [
              "<Figure size 432x288 with 1 Axes>"
            ]
          },
          "metadata": {
            "tags": [],
            "needs_background": "light"
          }
        }
      ]
    },
    {
      "cell_type": "markdown",
      "metadata": {
        "id": "_Biz2XY3l9so",
        "colab_type": "text"
      },
      "source": [
        "## Actividad 9\n",
        "\n",
        "\n",
        "\n"
      ]
    },
    {
      "cell_type": "markdown",
      "metadata": {
        "id": "Ij0Kr9NpmI4J",
        "colab_type": "text"
      },
      "source": [
        "- Podemos ver que el accuracy de el set de entrenamiento esta muy lejos del de set de test. La diferencia es de un 30% entre los accuracy\n",
        "\n",
        "- Hay altas variaciones entre las epochas, esto nos dice que el modelo estuvo \"perdido\" con imagenes que probablemte eran muy parecidas pero su prediccion estaba muy incorrecta. \n",
        "\n",
        "- Si la curva de validacion fuera mas suave, esto implicaria que la optimizacion se estaba haciendo en un camino \"certero\" y con mejoras graduales pero hacia la direccion correcta. "
      ]
    },
    {
      "cell_type": "code",
      "metadata": {
        "id": "Xy2MHi3gbIaM",
        "colab_type": "code",
        "colab": {
          "base_uri": "https://localhost:8080/",
          "height": 1000
        },
        "outputId": "280191f8-9522-468e-f3ae-af4afe028f9c"
      },
      "source": [
        "\n",
        "import matplotlib.pyplot as plt\n",
        "import numpy as np\n",
        "# import for showing the confusion matrix\n",
        "import itertools\n",
        "from sklearn.metrics import confusion_matrix\n",
        "\n",
        "def plot_confusion_matrix(cm, classes,\n",
        "                          normalize=False,\n",
        "                          title='Confusion matrix',\n",
        "                          cmap=plt.cm.Blues):\n",
        "    \"\"\"\n",
        "    This function prints and plots the confusion matrix.\n",
        "    Normalization can be applied by setting `normalize=True`.\n",
        "    \"\"\"\n",
        "    if normalize:\n",
        "        cm = cm.astype('float') / cm.sum(axis=1)[:, np.newaxis]\n",
        "        print(\"Normalized confusion matrix\")\n",
        "    else:\n",
        "        print('Confusion matrix, without normalization')\n",
        "\n",
        "    print(cm)\n",
        "\n",
        "    plt.imshow(cm, interpolation='nearest', cmap=cmap)\n",
        "    plt.title(title)\n",
        "    plt.colorbar()\n",
        "    tick_marks = np.arange(len(classes))\n",
        "    plt.xticks(tick_marks, classes, rotation=45)\n",
        "    plt.yticks(tick_marks, classes)\n",
        "\n",
        "    fmt = '.2f' if normalize else 'd'\n",
        "    thresh = cm.max() / 2.\n",
        "    for i, j in itertools.product(range(cm.shape[0]), range(cm.shape[1])):\n",
        "        plt.text(j, i, format(cm[i, j], fmt),\n",
        "                 horizontalalignment=\"center\",\n",
        "                 color=\"white\" if cm[i, j] > thresh else \"black\")\n",
        "\n",
        "    plt.ylabel('True label')\n",
        "    plt.xlabel('Predicted label')\n",
        "    plt.tight_layout()\n",
        "\n",
        "\n",
        "x_train,y_train,x_test,y_test=data()\n",
        "\n",
        "yPred_probabilities =model.predict(x_test, batch_size=batch_size)\n",
        "yPred = np.argmax(yPred_probabilities, axis=1)\n",
        "\n",
        "yTest_original=np.argmax(y_test,axis=1)\n",
        "\n",
        "cnf_matrix=confusion_matrix(y_true=yTest_original, y_pred=yPred)\n",
        "np.set_printoptions(precision=2)\n",
        "# Plot non-normalized confusion \n",
        "\n",
        "plot_confusion_matrix(cnf_matrix, classes=class_names,title='Confusion matrix, without normalization CIFAR-10')\n",
        "plt.show()\n",
        "# Plot normalized confusion \n",
        "\n",
        "plot_confusion_matrix(cnf_matrix, classes=class_names, normalize=True,title='Normalized confusion matrix CIFAR-10')\n",
        "\n",
        "plt.show()"
      ],
      "execution_count": null,
      "outputs": [
        {
          "output_type": "stream",
          "text": [
            "x_train shape: (50000, 32, 32, 3)\n",
            "50000 train samples\n",
            "10000 test samples\n",
            "Not using data augmentation.\n",
            "Confusion matrix, without normalization\n",
            "[[852  12  23  11  13   0  11  12  41  25]\n",
            " [ 12 922   1   4   2   1   3   1   9  45]\n",
            " [ 55   2 736  36  51  43  45  23   4   5]\n",
            " [ 17   3  47 688  41 115  41  27  12   9]\n",
            " [ 11   2  42  39 805  17  32  45   7   0]\n",
            " [  3   1  28 118  34 751  22  37   4   2]\n",
            " [ 12   1  29  32  21  17 875   4   6   3]\n",
            " [  9   0  18  26  28  40   3 864   1  11]\n",
            " [ 42  12   4   9   0   2   5   4 911  11]\n",
            " [ 20  35   4   5   4   2   5   3  15 907]]\n"
          ],
          "name": "stdout"
        },
        {
          "output_type": "display_data",
          "data": {
            "image/png": "[encoded data removed]",
            "text/plain": [
              "<Figure size 432x288 with 2 Axes>"
            ]
          },
          "metadata": {
            "tags": [],
            "needs_background": "light"
          }
        },
        {
          "output_type": "stream",
          "text": [
            "Normalized confusion matrix\n",
            "[[0.85 0.01 0.02 0.01 0.01 0.   0.01 0.01 0.04 0.03]\n",
            " [0.01 0.92 0.   0.   0.   0.   0.   0.   0.01 0.04]\n",
            " [0.06 0.   0.74 0.04 0.05 0.04 0.04 0.02 0.   0.01]\n",
            " [0.02 0.   0.05 0.69 0.04 0.12 0.04 0.03 0.01 0.01]\n",
            " [0.01 0.   0.04 0.04 0.81 0.02 0.03 0.04 0.01 0.  ]\n",
            " [0.   0.   0.03 0.12 0.03 0.75 0.02 0.04 0.   0.  ]\n",
            " [0.01 0.   0.03 0.03 0.02 0.02 0.88 0.   0.01 0.  ]\n",
            " [0.01 0.   0.02 0.03 0.03 0.04 0.   0.86 0.   0.01]\n",
            " [0.04 0.01 0.   0.01 0.   0.   0.01 0.   0.91 0.01]\n",
            " [0.02 0.04 0.   0.01 0.   0.   0.01 0.   0.01 0.91]]\n"
          ],
          "name": "stdout"
        },
        {
          "output_type": "display_data",
          "data": {
            "image/png": "[encoded data removed]",
            "text/plain": [
              "<Figure size 432x288 with 2 Axes>"
            ]
          },
          "metadata": {
            "tags": [],
            "needs_background": "light"
          }
        }
      ]
    },
    {
      "cell_type": "markdown",
      "metadata": {
        "id": "Rqr6ygRPlzc6",
        "colab_type": "text"
      },
      "source": [
        "## Actividad 10\n",
        "- Exactiud promedio del set de validacion: ~74%\n",
        "- Exactitud promedio del set de entrenamiento: ~89%\n",
        "- Son bajas las exactitudes y la de validacion tiene una alta variabilidad. Aumentando la cantidad de imagenes en el entrenamiento, se podria reducir de gran manera esta variabilidad y mejorar las exactitudes promedio. Se podria usar Data Augmentation\n",
        "\n",
        "- Podemos ver que hay un alto nivel de confusion entre las clases \"Cat\", \"Dog\" y \"Deer\". Esto tiene sentido dado que con baja resolucion en las imagenes, estos animales pueden ser parecidos y la confusion tiene sentido.\n",
        "\n",
        "- Los automobiles obtuvieron menores valores de confusion. Esto tiene sentido dado que la distinccion entre ellos se puede ver mejor en baja resolucion que los animales. Son mas faciles de distinguir porque tienen atributos que no dependen de la baja resolucion de las imagenes. Como lo son las alas de los aviones y el agua alrededor de los botes."
      ]
    },
    {
      "cell_type": "code",
      "metadata": {
        "id": "AOK0UKIRz8d7",
        "colab_type": "code",
        "colab": {}
      },
      "source": [
        "num_classes=100\n",
        "\n",
        "def data():\n",
        "  # The data, split between train and test sets:\n",
        "  (x_train, y_train), (x_test, y_test) = cifar100.load_data()\n",
        "  print('x_train shape:', x_train.shape)\n",
        "  print(x_train.shape[0], 'train samples')\n",
        "  print(x_test.shape[0], 'test samples')\n",
        "\n",
        "  # Convert class vectors to binary class matrices.\n",
        "  y_train = keras.utils.to_categorical(y_train, num_classes)\n",
        "  y_test = keras.utils.to_categorical(y_test, num_classes)\n",
        "\n",
        "\n",
        "\n",
        "  x_train = x_train.astype('float32')\n",
        "  x_test = x_test.astype('float32')\n",
        "  x_train /= 255\n",
        "  x_test /= 255\n",
        "  return x_train,y_train,x_test,y_test"
      ],
      "execution_count": null,
      "outputs": []
    },
    {
      "cell_type": "markdown",
      "metadata": {
        "id": "zR3smCwRyRzt",
        "colab_type": "text"
      },
      "source": [
        "## Actividad 11. \n",
        "Como se puede ver en el bloque de codigo anterior, la unica modificacion al modelo fue el numero de clases. Lo demas estaba ajustado para CIFAR100 dado que el tamaño de imagenes sigue siendo 32 x 32 y en numero de canales.\n"
      ]
    },
    {
      "cell_type": "code",
      "metadata": {
        "id": "2960MvpS0Ufy",
        "colab_type": "code",
        "colab": {
          "base_uri": "https://localhost:8080/",
          "height": 661
        },
        "outputId": "5d12a206-2e51-4939-dc9b-3dd452ca10ad"
      },
      "source": [
        "model= MiniGoogLeNet.build(width = 32, height = 32, depth = 3, classes = num_classes)\n",
        "# initiate RMSprop optimizer\n",
        "# opt = RMSprop(learning_rate=1e-4,decay=1e-6)\n",
        "opt = Adam(learning_rate=1e-4)\n",
        "\n",
        "# model.compile(optimizer=opt,loss=)\n",
        "model.compile(loss='categorical_crossentropy',\n",
        "              optimizer=opt,\n",
        "              metrics=['accuracy'])\n",
        "print('Not using data augmentation.')\n",
        "\n",
        "\n",
        "saved_epochs=0\n",
        "# model.load_weights(\"/content/drive/My Drive/Carpeta sin título/epochs:{epochs:03d}.hdf5\".format(epochs=saved_epochs))\n",
        "\n",
        "print('Not using data augmentation.')\n",
        "x_train,y_train,x_test,y_test=data()\n",
        "history=model.fit(x_train, y_train,\n",
        "          batch_size=batch_size,\n",
        "          epochs=30,\n",
        "          initial_epoch=saved_epochs,\n",
        "          validation_data=(x_test, y_test),\n",
        "          shuffle=True,\n",
        "          callbacks=callbacks_list)\n",
        "score, acc = model.evaluate(x_test, y_test, verbose=0)\n"
      ],
      "execution_count": null,
      "outputs": [
        {
          "output_type": "stream",
          "text": [
            "Not using data augmentation.\n",
            "Not using data augmentation.\n",
            "Downloading data from https://www.cs.toronto.edu/~kriz/cifar-100-python.tar.gz\n",
            "169009152/169001437 [==============================] - 4s 0us/step\n",
            "x_train shape: (50000, 32, 32, 3)\n",
            "50000 train samples\n",
            "10000 test samples\n",
            "Train on 50000 samples, validate on 10000 samples\n",
            "Epoch 1/30\n",
            "  128/50000 [..............................] - ETA: 27:20 - loss: 4.9797 - accuracy: 0.0000e+00"
          ],
          "name": "stdout"
        },
        {
          "output_type": "stream",
          "text": [
            "/usr/local/lib/python3.6/dist-packages/keras/callbacks/callbacks.py:95: RuntimeWarning: Method (on_train_batch_end) is slow compared to the batch update (0.418820). Check your callbacks.\n",
            "  % (hook_name, delta_t_median), RuntimeWarning)\n"
          ],
          "name": "stderr"
        },
        {
          "output_type": "stream",
          "text": [
            "50000/50000 [==============================] - 107s 2ms/step - loss: 3.9547 - accuracy: 0.1059 - val_loss: 3.3687 - val_accuracy: 0.2034\n",
            "Epoch 2/30\n",
            "50000/50000 [==============================] - 102s 2ms/step - loss: 3.3385 - accuracy: 0.1993 - val_loss: 2.9979 - val_accuracy: 0.2605\n",
            "Epoch 3/30\n",
            "50000/50000 [==============================] - 102s 2ms/step - loss: 2.9694 - accuracy: 0.2611 - val_loss: 2.7342 - val_accuracy: 0.3187\n",
            "Epoch 4/30\n",
            "50000/50000 [==============================] - 102s 2ms/step - loss: 2.6986 - accuracy: 0.3165 - val_loss: 2.5158 - val_accuracy: 0.3596\n",
            "Epoch 5/30\n",
            "50000/50000 [==============================] - 102s 2ms/step - loss: 2.4790 - accuracy: 0.3573 - val_loss: 2.2567 - val_accuracy: 0.4103\n",
            "Epoch 6/30\n",
            "50000/50000 [==============================] - 102s 2ms/step - loss: 2.2936 - accuracy: 0.3961 - val_loss: 2.2367 - val_accuracy: 0.4165\n",
            "Epoch 7/30\n",
            "50000/50000 [==============================] - 102s 2ms/step - loss: 2.1442 - accuracy: 0.4299 - val_loss: 2.1121 - val_accuracy: 0.4462\n",
            "Epoch 8/30\n",
            "50000/50000 [==============================] - 102s 2ms/step - loss: 2.0052 - accuracy: 0.4618 - val_loss: 2.0502 - val_accuracy: 0.4549\n",
            "Epoch 9/30\n",
            "50000/50000 [==============================] - 102s 2ms/step - loss: 1.8801 - accuracy: 0.4899 - val_loss: 1.9331 - val_accuracy: 0.4805\n",
            "Epoch 10/30\n",
            "50000/50000 [==============================] - 102s 2ms/step - loss: 1.7774 - accuracy: 0.5133 - val_loss: 1.9576 - val_accuracy: 0.4728\n",
            "Epoch 11/30\n",
            "50000/50000 [==============================] - 102s 2ms/step - loss: 1.6765 - accuracy: 0.5360 - val_loss: 1.8839 - val_accuracy: 0.4917\n",
            "Epoch 12/30\n",
            "50000/50000 [==============================] - 102s 2ms/step - loss: 1.5808 - accuracy: 0.5603 - val_loss: 1.9623 - val_accuracy: 0.4813\n",
            "Epoch 13/30\n",
            "14784/50000 [=======>......................] - ETA: 1:08 - loss: 1.4784 - accuracy: 0.5837"
          ],
          "name": "stdout"
        }
      ]
    },
    {
      "cell_type": "code",
      "metadata": {
        "id": "SsrXRPuBOoBX",
        "colab_type": "code",
        "colab": {
          "resources": {
            "http://localhost:8080/nbextensions/google.colab/files.js": {
              "data": "Ly8gQ29weXJpZ2h0IDIwMTcgR29vZ2xlIExMQwovLwovLyBMaWNlbnNlZCB1bmRlciB0aGUgQXBhY2hlIExpY2Vuc2UsIFZlcnNpb24gMi4wICh0aGUgIkxpY2Vuc2UiKTsKLy8geW91IG1heSBub3QgdXNlIHRoaXMgZmlsZSBleGNlcHQgaW4gY29tcGxpYW5jZSB3aXRoIHRoZSBMaWNlbnNlLgovLyBZb3UgbWF5IG9idGFpbiBhIGNvcHkgb2YgdGhlIExpY2Vuc2UgYXQKLy8KLy8gICAgICBodHRwOi8vd3d3LmFwYWNoZS5vcmcvbGljZW5zZXMvTElDRU5TRS0yLjAKLy8KLy8gVW5sZXNzIHJlcXVpcmVkIGJ5IGFwcGxpY2FibGUgbGF3IG9yIGFncmVlZCB0byBpbiB3cml0aW5nLCBzb2Z0d2FyZQovLyBkaXN0cmlidXRlZCB1bmRlciB0aGUgTGljZW5zZSBpcyBkaXN0cmlidXRlZCBvbiBhbiAiQVMgSVMiIEJBU0lTLAovLyBXSVRIT1VUIFdBUlJBTlRJRVMgT1IgQ09ORElUSU9OUyBPRiBBTlkgS0lORCwgZWl0aGVyIGV4cHJlc3Mgb3IgaW1wbGllZC4KLy8gU2VlIHRoZSBMaWNlbnNlIGZvciB0aGUgc3BlY2lmaWMgbGFuZ3VhZ2UgZ292ZXJuaW5nIHBlcm1pc3Npb25zIGFuZAovLyBsaW1pdGF0aW9ucyB1bmRlciB0aGUgTGljZW5zZS4KCi8qKgogKiBAZmlsZW92ZXJ2aWV3IEhlbHBlcnMgZm9yIGdvb2dsZS5jb2xhYiBQeXRob24gbW9kdWxlLgogKi8KKGZ1bmN0aW9uKHNjb3BlKSB7CmZ1bmN0aW9uIHNwYW4odGV4dCwgc3R5bGVBdHRyaWJ1dGVzID0ge30pIHsKICBjb25zdCBlbGVtZW50ID0gZG9jdW1lbnQuY3JlYXRlRWxlbWVudCgnc3BhbicpOwogIGVsZW1lbnQudGV4dENvbnRlbnQgPSB0ZXh0OwogIGZvciAoY29uc3Qga2V5IG9mIE9iamVjdC5rZXlzKHN0eWxlQXR0cmlidXRlcykpIHsKICAgIGVsZW1lbnQuc3R5bGVba2V5XSA9IHN0eWxlQXR0cmlidXRlc1trZXldOwogIH0KICByZXR1cm4gZWxlbWVudDsKfQoKLy8gTWF4IG51bWJlciBvZiBieXRlcyB3aGljaCB3aWxsIGJlIHVwbG9hZGVkIGF0IGEgdGltZS4KY29uc3QgTUFYX1BBWUxPQURfU0laRSA9IDEwMCAqIDEwMjQ7Ci8vIE1heCBhbW91bnQgb2YgdGltZSB0byBibG9jayB3YWl0aW5nIGZvciB0aGUgdXNlci4KY29uc3QgRklMRV9DSEFOR0VfVElNRU9VVF9NUyA9IDMwICogMTAwMDsKCmZ1bmN0aW9uIF91cGxvYWRGaWxlcyhpbnB1dElkLCBvdXRwdXRJZCkgewogIGNvbnN0IHN0ZXBzID0gdXBsb2FkRmlsZXNTdGVwKGlucHV0SWQsIG91dHB1dElkKTsKICBjb25zdCBvdXRwdXRFbGVtZW50ID0gZG9jdW1lbnQuZ2V0RWxlbWVudEJ5SWQob3V0cHV0SWQpOwogIC8vIENhY2hlIHN0ZXBzIG9uIHRoZSBvdXRwdXRFbGVtZW50IHRvIG1ha2UgaXQgYXZhaWxhYmxlIGZvciB0aGUgbmV4dCBjYWxsCiAgLy8gdG8gdXBsb2FkRmlsZXNDb250aW51ZSBmcm9tIFB5dGhvbi4KICBvdXRwdXRFbGVtZW50LnN0ZXBzID0gc3RlcHM7CgogIHJldHVybiBfdXBsb2FkRmlsZXNDb250aW51ZShvdXRwdXRJZCk7Cn0KCi8vIFRoaXMgaXMgcm91Z2hseSBhbiBhc3luYyBnZW5lcmF0b3IgKG5vdCBzdXBwb3J0ZWQgaW4gdGhlIGJyb3dzZXIgeWV0KSwKLy8gd2hlcmUgdGhlcmUgYXJlIG11bHRpcGxlIGFzeW5jaHJvbm91cyBzdGVwcyBhbmQgdGhlIFB5dGhvbiBzaWRlIGlzIGdvaW5nCi8vIHRvIHBvbGwgZm9yIGNvbXBsZXRpb24gb2YgZWFjaCBzdGVwLgovLyBUaGlzIHVzZXMgYSBQcm9taXNlIHRvIGJsb2NrIHRoZSBweXRob24gc2lkZSBvbiBjb21wbGV0aW9uIG9mIGVhY2ggc3RlcCwKLy8gdGhlbiBwYXNzZXMgdGhlIHJlc3VsdCBvZiB0aGUgcHJldmlvdXMgc3RlcCBhcyB0aGUgaW5wdXQgdG8gdGhlIG5leHQgc3RlcC4KZnVuY3Rpb24gX3VwbG9hZEZpbGVzQ29udGludWUob3V0cHV0SWQpIHsKICBjb25zdCBvdXRwdXRFbGVtZW50ID0gZG9jdW1lbnQuZ2V0RWxlbWVudEJ5SWQob3V0cHV0SWQpOwogIGNvbnN0IHN0ZXBzID0gb3V0cHV0RWxlbWVudC5zdGVwczsKCiAgY29uc3QgbmV4dCA9IHN0ZXBzLm5leHQob3V0cHV0RWxlbWVudC5sYXN0UHJvbWlzZVZhbHVlKTsKICByZXR1cm4gUHJvbWlzZS5yZXNvbHZlKG5leHQudmFsdWUucHJvbWlzZSkudGhlbigodmFsdWUpID0+IHsKICAgIC8vIENhY2hlIHRoZSBsYXN0IHByb21pc2UgdmFsdWUgdG8gbWFrZSBpdCBhdmFpbGFibGUgdG8gdGhlIG5leHQKICAgIC8vIHN0ZXAgb2YgdGhlIGdlbmVyYXRvci4KICAgIG91dHB1dEVsZW1lbnQubGFzdFByb21pc2VWYWx1ZSA9IHZhbHVlOwogICAgcmV0dXJuIG5leHQudmFsdWUucmVzcG9uc2U7CiAgfSk7Cn0KCi8qKgogKiBHZW5lcmF0b3IgZnVuY3Rpb24gd2hpY2ggaXMgY2FsbGVkIGJldHdlZW4gZWFjaCBhc3luYyBzdGVwIG9mIHRoZSB1cGxvYWQKICogcHJvY2Vzcy4KICogQHBhcmFtIHtzdHJpbmd9IGlucHV0SWQgRWxlbWVudCBJRCBvZiB0aGUgaW5wdXQgZmlsZSBwaWNrZXIgZWxlbWVudC4KICogQHBhcmFtIHtzdHJpbmd9IG91dHB1dElkIEVsZW1lbnQgSUQgb2YgdGhlIG91dHB1dCBkaXNwbGF5LgogKiBAcmV0dXJuIHshSXRlcmFibGU8IU9iamVjdD59IEl0ZXJhYmxlIG9mIG5leHQgc3RlcHMuCiAqLwpmdW5jdGlvbiogdXBsb2FkRmlsZXNTdGVwKGlucHV0SWQsIG91dHB1dElkKSB7CiAgY29uc3QgaW5wdXRFbGVtZW50ID0gZG9jdW1lbnQuZ2V0RWxlbWVudEJ5SWQoaW5wdXRJZCk7CiAgaW5wdXRFbGVtZW50LmRpc2FibGVkID0gZmFsc2U7CgogIGNvbnN0IG91dHB1dEVsZW1lbnQgPSBkb2N1bWVudC5nZXRFbGVtZW50QnlJZChvdXRwdXRJZCk7CiAgb3V0cHV0RWxlbWVudC5pbm5lckhUTUwgPSAnJzsKCiAgY29uc3QgcGlja2VkUHJvbWlzZSA9IG5ldyBQcm9taXNlKChyZXNvbHZlKSA9PiB7CiAgICBpbnB1dEVsZW1lbnQuYWRkRXZlbnRMaXN0ZW5lcignY2hhbmdlJywgKGUpID0+IHsKICAgICAgcmVzb2x2ZShlLnRhcmdldC5maWxlcyk7CiAgICB9KTsKICB9KTsKCiAgY29uc3QgY2FuY2VsID0gZG9jdW1lbnQuY3JlYXRlRWxlbWVudCgnYnV0dG9uJyk7CiAgaW5wdXRFbGVtZW50LnBhcmVudEVsZW1lbnQuYXBwZW5kQ2hpbGQoY2FuY2VsKTsKICBjYW5jZWwudGV4dENvbnRlbnQgPSAnQ2FuY2VsIHVwbG9hZCc7CiAgY29uc3QgY2FuY2VsUHJvbWlzZSA9IG5ldyBQcm9taXNlKChyZXNvbHZlKSA9PiB7CiAgICBjYW5jZWwub25jbGljayA9ICgpID0+IHsKICAgICAgcmVzb2x2ZShudWxsKTsKICAgIH07CiAgfSk7CgogIC8vIENhbmNlbCB1cGxvYWQgaWYgdXNlciBoYXNuJ3QgcGlja2VkIGFueXRoaW5nIGluIHRpbWVvdXQuCiAgY29uc3QgdGltZW91dFByb21pc2UgPSBuZXcgUHJvbWlzZSgocmVzb2x2ZSkgPT4gewogICAgc2V0VGltZW91dCgoKSA9PiB7CiAgICAgIHJlc29sdmUobnVsbCk7CiAgICB9LCBGSUxFX0NIQU5HRV9USU1FT1VUX01TKTsKICB9KTsKCiAgLy8gV2FpdCBmb3IgdGhlIHVzZXIgdG8gcGljayB0aGUgZmlsZXMuCiAgY29uc3QgZmlsZXMgPSB5aWVsZCB7CiAgICBwcm9taXNlOiBQcm9taXNlLnJhY2UoW3BpY2tlZFByb21pc2UsIHRpbWVvdXRQcm9taXNlLCBjYW5jZWxQcm9taXNlXSksCiAgICByZXNwb25zZTogewogICAgICBhY3Rpb246ICdzdGFydGluZycsCiAgICB9CiAgfTsKCiAgaWYgKCFmaWxlcykgewogICAgcmV0dXJuIHsKICAgICAgcmVzcG9uc2U6IHsKICAgICAgICBhY3Rpb246ICdjb21wbGV0ZScsCiAgICAgIH0KICAgIH07CiAgfQoKICBjYW5jZWwucmVtb3ZlKCk7CgogIC8vIERpc2FibGUgdGhlIGlucHV0IGVsZW1lbnQgc2luY2UgZnVydGhlciBwaWNrcyBhcmUgbm90IGFsbG93ZWQuCiAgaW5wdXRFbGVtZW50LmRpc2FibGVkID0gdHJ1ZTsKCiAgZm9yIChjb25zdCBmaWxlIG9mIGZpbGVzKSB7CiAgICBjb25zdCBsaSA9IGRvY3VtZW50LmNyZWF0ZUVsZW1lbnQoJ2xpJyk7CiAgICBsaS5hcHBlbmQoc3BhbihmaWxlLm5hbWUsIHtmb250V2VpZ2h0OiAnYm9sZCd9KSk7CiAgICBsaS5hcHBlbmQoc3BhbigKICAgICAgICBgKCR7ZmlsZS50eXBlIHx8ICduL2EnfSkgLSAke2ZpbGUuc2l6ZX0gYnl0ZXMsIGAgKwogICAgICAgIGBsYXN0IG1vZGlmaWVkOiAkewogICAgICAgICAgICBmaWxlLmxhc3RNb2RpZmllZERhdGUgPyBmaWxlLmxhc3RNb2RpZmllZERhdGUudG9Mb2NhbGVEYXRlU3RyaW5nKCkgOgogICAgICAgICAgICAgICAgICAgICAgICAgICAgICAgICAgICAnbi9hJ30gLSBgKSk7CiAgICBjb25zdCBwZXJjZW50ID0gc3BhbignMCUgZG9uZScpOwogICAgbGkuYXBwZW5kQ2hpbGQocGVyY2VudCk7CgogICAgb3V0cHV0RWxlbWVudC5hcHBlbmRDaGlsZChsaSk7CgogICAgY29uc3QgZmlsZURhdGFQcm9taXNlID0gbmV3IFByb21pc2UoKHJlc29sdmUpID0+IHsKICAgICAgY29uc3QgcmVhZGVyID0gbmV3IEZpbGVSZWFkZXIoKTsKICAgICAgcmVhZGVyLm9ubG9hZCA9IChlKSA9PiB7CiAgICAgICAgcmVzb2x2ZShlLnRhcmdldC5yZXN1bHQpOwogICAgICB9OwogICAgICByZWFkZXIucmVhZEFzQXJyYXlCdWZmZXIoZmlsZSk7CiAgICB9KTsKICAgIC8vIFdhaXQgZm9yIHRoZSBkYXRhIHRvIGJlIHJlYWR5LgogICAgbGV0IGZpbGVEYXRhID0geWllbGQgewogICAgICBwcm9taXNlOiBmaWxlRGF0YVByb21pc2UsCiAgICAgIHJlc3BvbnNlOiB7CiAgICAgICAgYWN0aW9uOiAnY29udGludWUnLAogICAgICB9CiAgICB9OwoKICAgIC8vIFVzZSBhIGNodW5rZWQgc2VuZGluZyB0byBhdm9pZCBtZXNzYWdlIHNpemUgbGltaXRzLiBTZWUgYi82MjExNTY2MC4KICAgIGxldCBwb3NpdGlvbiA9IDA7CiAgICB3aGlsZSAocG9zaXRpb24gPCBmaWxlRGF0YS5ieXRlTGVuZ3RoKSB7CiAgICAgIGNvbnN0IGxlbmd0aCA9IE1hdGgubWluKGZpbGVEYXRhLmJ5dGVMZW5ndGggLSBwb3NpdGlvbiwgTUFYX1BBWUxPQURfU0laRSk7CiAgICAgIGNvbnN0IGNodW5rID0gbmV3IFVpbnQ4QXJyYXkoZmlsZURhdGEsIHBvc2l0aW9uLCBsZW5ndGgpOwogICAgICBwb3NpdGlvbiArPSBsZW5ndGg7CgogICAgICBjb25zdCBiYXNlNjQgPSBidG9hKFN0cmluZy5mcm9tQ2hhckNvZGUuYXBwbHkobnVsbCwgY2h1bmspKTsKICAgICAgeWllbGQgewogICAgICAgIHJlc3BvbnNlOiB7CiAgICAgICAgICBhY3Rpb246ICdhcHBlbmQnLAogICAgICAgICAgZmlsZTogZmlsZS5uYW1lLAogICAgICAgICAgZGF0YTogYmFzZTY0LAogICAgICAgIH0sCiAgICAgIH07CiAgICAgIHBlcmNlbnQudGV4dENvbnRlbnQgPQogICAgICAgICAgYCR7TWF0aC5yb3VuZCgocG9zaXRpb24gLyBmaWxlRGF0YS5ieXRlTGVuZ3RoKSAqIDEwMCl9JSBkb25lYDsKICAgIH0KICB9CgogIC8vIEFsbCBkb25lLgogIHlpZWxkIHsKICAgIHJlc3BvbnNlOiB7CiAgICAgIGFjdGlvbjogJ2NvbXBsZXRlJywKICAgIH0KICB9Owp9CgpzY29wZS5nb29nbGUgPSBzY29wZS5nb29nbGUgfHwge307CnNjb3BlLmdvb2dsZS5jb2xhYiA9IHNjb3BlLmdvb2dsZS5jb2xhYiB8fCB7fTsKc2NvcGUuZ29vZ2xlLmNvbGFiLl9maWxlcyA9IHsKICBfdXBsb2FkRmlsZXMsCiAgX3VwbG9hZEZpbGVzQ29udGludWUsCn07Cn0pKHNlbGYpOwo=",
              "ok": true,
              "headers": [
                [
                  "content-type",
                  "application/javascript"
                ]
              ],
              "status": 200,
              "status_text": ""
            }
          },
          "base_uri": "https://localhost:8080/",
          "height": 630
        },
        "outputId": "3f33a6d1-71ce-4c66-9a09-27ae789a623c"
      },
      "source": [
        "import matplotlib.pyplot as plt\n",
        "\n",
        "# Plot training & validation accuracy values\n",
        "import pandas as pd\n",
        "import io\n",
        "\n",
        "from google.colab import files\n",
        "uploaded=files.upload()\n",
        "data = pd.read_csv(io.StringIO(uploaded['cifar100.csv'].decode('utf-8')))\n",
        "  # idx 1,3\n",
        "\n",
        "plt.plot(data['accuracy'])\n",
        "plt.plot(data['val_accuracy'])\n",
        "plt.title('Model accuracy')\n",
        "plt.ylabel('Accuracy')\n",
        "plt.xlabel('Epoch')\n",
        "plt.legend(['Train', 'Test'], loc='upper left')\n",
        "plt.show()\n",
        "\n",
        "# Plot training & validation loss values\n",
        "plt.plot(data['loss'])\n",
        "plt.plot(data['val_loss'])\n",
        "plt.title('Model loss')\n",
        "plt.ylabel('Loss')\n",
        "plt.xlabel('Epoch')\n",
        "plt.legend(['Train', 'Test'], loc='upper left')\n",
        "plt.show()\n"
      ],
      "execution_count": null,
      "outputs": [
        {
          "output_type": "display_data",
          "data": {
            "text/html": [
              "\n",
              "     <input type=\"file\" id=\"files-283b7ed8-aef1-40ca-a403-f2998f2a1097\" name=\"files[]\" multiple disabled />\n",
              "     <output id=\"result-283b7ed8-aef1-40ca-a403-f2998f2a1097\">\n",
              "      Upload widget is only available when the cell has been executed in the\n",
              "      current browser session. Please rerun this cell to enable.\n",
              "      </output>\n",
              "      <script src=\"/nbextensions/google.colab/files.js\"></script> "
            ],
            "text/plain": [
              "<IPython.core.display.HTML object>"
            ]
          },
          "metadata": {
            "tags": []
          }
        },
        {
          "output_type": "stream",
          "text": [
            "Saving cifar100.csv to cifar100.csv\n"
          ],
          "name": "stdout"
        },
        {
          "output_type": "display_data",
          "data": {
            "image/png": "[encoded data removed]",
            "text/plain": [
              "<Figure size 432x288 with 1 Axes>"
            ]
          },
          "metadata": {
            "tags": [],
            "needs_background": "light"
          }
        },
        {
          "output_type": "display_data",
          "data": {
            "image/png": "[encoded data removed]",
            "text/plain": [
              "<Figure size 432x288 with 1 Axes>"
            ]
          },
          "metadata": {
            "tags": [],
            "needs_background": "light"
          }
        }
      ]
    },
    {
      "cell_type": "markdown",
      "metadata": {
        "id": "jX6DOL0eymW6",
        "colab_type": "text"
      },
      "source": [
        "### Comentarios sobre graficos\n",
        "* A difererencia de CIFAR10, el accuracy del set de entrenamiento se tardo muchas epocas en llegar a 90%. \n",
        "* El accuracy del set de validacion se quedo estancado y son muchas previsiones de mejorar. No fue tan variable pero esto muestra que si seguia entrenando por varias epocas, este seguiria estancado.\n"
      ]
    },
    {
      "cell_type": "code",
      "metadata": {
        "id": "WA7ZI_p0nktm",
        "colab_type": "code",
        "colab": {}
      },
      "source": [
        "import matplotlib.pyplot as plt\n",
        "import numpy as np\n",
        "# import for showing the confusion matrix\n",
        "import itertools\n",
        "from sklearn.metrics import confusion_matrix\n",
        "\n",
        "def plot_confusion_matrix(cm, classes,\n",
        "                          normalize=False,\n",
        "                          title='Confusion matrix',\n",
        "                          cmap=plt.cm.Blues):\n",
        "    \"\"\"\n",
        "    This function prints and plots the confusion matrix.\n",
        "    Normalization can be applied by setting `normalize=True`.\n",
        "    \"\"\"\n",
        "    if normalize:\n",
        "        cm = cm.astype('float') / cm.sum(axis=1)[:, np.newaxis]\n",
        "        print(\"Normalized confusion matrix\")\n",
        "    else:\n",
        "        print('Confusion matrix, without normalization')\n",
        "\n",
        "    print(cm)\n",
        "\n",
        "    plt.imshow(cm, interpolation='nearest', cmap=cmap)\n",
        "    plt.title(title)\n",
        "    plt.colorbar()\n",
        "    tick_marks = np.arange(len(classes))\n",
        "    plt.xticks(tick_marks, classes, rotation=45)\n",
        "    plt.yticks(tick_marks, classes)\n",
        "\n",
        "    fmt = '.2f' if normalize else 'd'\n",
        "    thresh = cm.max() / 2.\n",
        "    for i, j in itertools.product(range(cm.shape[0]), range(cm.shape[1])):\n",
        "        plt.text(j, i, format(cm[i, j], fmt),\n",
        "                 horizontalalignment=\"center\",\n",
        "                 color=\"white\" if cm[i, j] > thresh else \"black\")\n",
        "\n",
        "    plt.ylabel('True label')\n",
        "    plt.xlabel('Predicted label')\n",
        "    plt.tight_layout()\n",
        "\n",
        "\n",
        "x_train,y_train,x_test,y_test=data()\n",
        "\n",
        "yPred_probabilities =model.predict(x_test, batch_size=batch_size)\n",
        "yPred = np.argmax(yPred_probabilities, axis=1)\n",
        "\n",
        "yTest_original=np.argmax(y_test,axis=1)\n",
        "\n",
        "cnf_matrix=confusion_matrix(y_true=yTest_original, y_pred=yPred)\n",
        "np.set_printoptions(precision=2)\n",
        "# Plot non-normalized confusion \n",
        "\n",
        "plot_confusion_matrix(cnf_matrix, classes=class_names,title='Confusion matrix, without normalization CIFAR-100')\n",
        "plt.show()\n",
        "# Plot normalized confusion \n",
        "\n",
        "plot_confusion_matrix(cnf_matrix, classes=class_names, normalize=True,title='Normalized confusion matrix CIFAR-100')\n",
        "plt.show()"
      ],
      "execution_count": null,
      "outputs": []
    },
    {
      "cell_type": "markdown",
      "metadata": {
        "id": "d_QLGoDhzbto",
        "colab_type": "text"
      },
      "source": [
        "## Actividad 12\n",
        "La exactitud promedio de set:\n",
        "- Entrenamiento: 60%\n",
        "- Validacion: 45%\n",
        "\n",
        "El promedio de exactitud del set de entrenamiento no es representativo del valor que tuvo en cada epoca. \n",
        "El de validacion si es representativo.\n",
        "\n"
      ]
    },
    {
      "cell_type": "markdown",
      "metadata": {
        "id": "UISsNEO81L49",
        "colab_type": "text"
      },
      "source": [
        ""
      ]
    },
    {
      "cell_type": "markdown",
      "metadata": {
        "id": "WHyXARPe1Y47",
        "colab_type": "text"
      },
      "source": [
        "## Actividad 13\n",
        "\n",
        "Utilizando los mismo hiparametros, se obtuvo un exactitud menor en CIFAR100 que en CIFAR10. * Esto tiene sentido dado que tiene una menor cantidad de imagenes para entrenar y un mayor numero de clases. Uno deberia pensar que para entrenar mas clases y uno deberia tener una mayor cantidad de datos. El entrenamiento estuvo bastante debilitado por tener pocos datos.\n",
        "* Tratando de hacer un simil con las habilidad asociativas que tenemos como humanos, el hecho de que CIFAR100 agrega un nivel de abstraccion con \"superclases\" hace que exista un nivel de conocimiento mas complejo que deberia ser entrenado en distintas capas. \n",
        "* Una posible mejora para obtener mejores resultados en CIFAR100 seria utilizar transfer-learning, donde se entrean subclases con el modelo. Y por otro lado se entrega un mundo de conocimiento o Knowledge base, donde se puedan hacer las asociaciones que se buscan en las \"superclases\".\n",
        "\n"
      ]
    },
    {
      "cell_type": "code",
      "metadata": {
        "id": "t5zensXP2Zk2",
        "colab_type": "code",
        "colab": {}
      },
      "source": [
        ""
      ],
      "execution_count": null,
      "outputs": []
    }
  ]
}